{
 "cells": [
  {
   "cell_type": "code",
   "execution_count": 1,
   "metadata": {},
   "outputs": [],
   "source": [
    "import numpy as np\n",
    "import matplotlib.pyplot as plt\n",
    "import tensorflow as tf\n",
    "from tensorflow import keras\n",
    "import gym\n",
    "\n",
    "import imitation_learning"
   ]
  },
  {
   "cell_type": "code",
   "execution_count": 2,
   "metadata": {},
   "outputs": [],
   "source": [
    "num_steps     = 20\n",
    "batch_size    = 4\n",
    "n_iterations  = 100000\n",
    "\n",
    "input_size    = 16\n",
    "action_size   = 4\n",
    "num_units     = 5\n",
    "learning_rate = 0.001"
   ]
  },
  {
   "cell_type": "code",
   "execution_count": 3,
   "metadata": {},
   "outputs": [],
   "source": [
    "def preprocess_state(s):\n",
    "    S = np.zeros((1,input_size), np.float32)\n",
    "    S[0,s] = 1\n",
    "    return S   "
   ]
  },
  {
   "cell_type": "code",
   "execution_count": 4,
   "metadata": {},
   "outputs": [],
   "source": [
    "policy = keras.Sequential([\n",
    "            keras.layers.Input(shape=[input_size]),\n",
    "            keras.layers.Dense(action_size, activation=tf.nn.softmax)\n",
    "        ])\n",
    "\n",
    "value_function = keras.Sequential([\n",
    "            keras.layers.Input(shape=[input_size]),\n",
    "            keras.layers.Dense(1, activation=tf.identity)\n",
    "        ])"
   ]
  },
  {
   "cell_type": "code",
   "execution_count": 5,
   "metadata": {},
   "outputs": [],
   "source": [
    "agent = imitation_learning.model.DiscreteActorCritic(\n",
    "    policy, value_function, preprocess_state, learning_rate\n",
    ")"
   ]
  },
  {
   "cell_type": "code",
   "execution_count": 6,
   "metadata": {},
   "outputs": [],
   "source": [
    "env = gym.make('FrozenLake-v0').env.__class__(\n",
    "    map_name='4x4', is_slippery=False)"
   ]
  },
  {
   "cell_type": "code",
   "execution_count": 7,
   "metadata": {},
   "outputs": [],
   "source": [
    "sim   = imitation_learning.simulator.Simulator(env, agent)"
   ]
  },
  {
   "cell_type": "code",
   "execution_count": 8,
   "metadata": {},
   "outputs": [],
   "source": [
    "t_good = [(0,1,0),(4,1,0),(8,2,0),(9,2,0),(10,1,0),(14,2,1)]"
   ]
  },
  {
   "cell_type": "code",
   "execution_count": 9,
   "metadata": {
    "scrolled": true
   },
   "outputs": [
    {
     "name": "stdout",
     "output_type": "stream",
     "text": [
      "0 r=0.0 loss=1.71\n",
      "2000 r=0.0 loss=-0.02\n",
      "4000 r=0.0 loss=0.14\n",
      "6000 r=0.0 loss=0.00\n",
      "8000 r=0.0 loss=0.02\n",
      "10000 r=0.0 loss=0.00\n",
      "12000 r=0.0 loss=0.00\n",
      "14000 r=0.0 loss=-0.34\n",
      "16000 r=0.0 loss=-0.02\n",
      "18000 r=0.0 loss=-0.13\n",
      "20000 r=0.0 loss=-0.07\n",
      "22000 r=0.0 loss=-0.02\n",
      "24000 r=0.0 loss=-0.01\n",
      "26000 r=0.0 loss=0.03\n",
      "28000 r=0.0 loss=-0.02\n",
      "30000 r=0.0 loss=0.00\n",
      "32000 r=0.0 loss=-0.00\n",
      "34000 r=0.0 loss=-0.03\n",
      "36000 r=0.0 loss=0.00\n",
      "38000 r=0.0 loss=-0.00\n",
      "40000 r=0.0 loss=-0.03\n",
      "42000 r=0.0 loss=0.08\n"
     ]
    },
    {
     "name": "stderr",
     "output_type": "stream",
     "text": [
      "WARNING: Logging before flag parsing goes to stderr.\n",
      "E0528 08:02:42.222838 139644269979456 ultratb.py:149] Internal Python error in the inspect module.\n",
      "Below is the traceback from this internal error.\n",
      "\n"
     ]
    },
    {
     "name": "stdout",
     "output_type": "stream",
     "text": [
      "Traceback (most recent call last):\n",
      "  File \"/home/gabriel/anaconda3/lib/python3.7/site-packages/IPython/core/interactiveshell.py\", line 3267, in run_code\n",
      "    exec(code_obj, self.user_global_ns, self.user_ns)\n",
      "  File \"<ipython-input-9-01b6ea8b2776>\", line 25, in <module>\n",
      "    loss = agent.train(S, A, R, I)\n",
      "  File \"/home/gabriel/projects/imitation_learning/imitation_learning/model.py\", line 27, in train\n",
      "    self.opt.apply_gradients(zip(gp,self.policy.trainable_variables))\n",
      "  File \"/home/gabriel/anaconda3/lib/python3.7/site-packages/tensorflow/python/keras/optimizer_v2/optimizer_v2.py\", line 406, in apply_gradients\n",
      "    self._distributed_apply, args=(grads_and_vars,), kwargs={\"name\": name})\n",
      "  File \"/home/gabriel/anaconda3/lib/python3.7/site-packages/tensorflow/python/distribute/distribute_lib.py\", line 1375, in merge_call\n",
      "    return self._merge_call(merge_fn, args, kwargs)\n",
      "  File \"/home/gabriel/anaconda3/lib/python3.7/site-packages/tensorflow/python/distribute/distribute_lib.py\", line 1384, in _merge_call\n",
      "    _pop_per_thread_mode()\n",
      "KeyboardInterrupt\n",
      "\n",
      "During handling of the above exception, another exception occurred:\n",
      "\n",
      "Traceback (most recent call last):\n",
      "  File \"/home/gabriel/anaconda3/lib/python3.7/site-packages/IPython/core/interactiveshell.py\", line 2018, in showtraceback\n",
      "    stb = value._render_traceback_()\n",
      "AttributeError: 'KeyboardInterrupt' object has no attribute '_render_traceback_'\n",
      "\n",
      "During handling of the above exception, another exception occurred:\n",
      "\n",
      "Traceback (most recent call last):\n",
      "  File \"/home/gabriel/anaconda3/lib/python3.7/site-packages/IPython/core/ultratb.py\", line 1095, in get_records\n",
      "    return _fixed_getinnerframes(etb, number_of_lines_of_context, tb_offset)\n",
      "  File \"/home/gabriel/anaconda3/lib/python3.7/site-packages/IPython/core/ultratb.py\", line 313, in wrapped\n",
      "    return f(*args, **kwargs)\n",
      "  File \"/home/gabriel/anaconda3/lib/python3.7/site-packages/IPython/core/ultratb.py\", line 347, in _fixed_getinnerframes\n",
      "    records = fix_frame_records_filenames(inspect.getinnerframes(etb, context))\n",
      "  File \"/home/gabriel/anaconda3/lib/python3.7/inspect.py\", line 1500, in getinnerframes\n",
      "    frameinfo = (tb.tb_frame,) + getframeinfo(tb, context)\n",
      "  File \"/home/gabriel/anaconda3/lib/python3.7/inspect.py\", line 1462, in getframeinfo\n",
      "    lines, lnum = findsource(frame)\n",
      "  File \"/home/gabriel/anaconda3/lib/python3.7/site-packages/IPython/core/ultratb.py\", line 179, in findsource\n",
      "    lines = linecache.getlines(file, globals_dict)\n",
      "  File \"/home/gabriel/anaconda3/lib/python3.7/linecache.py\", line 47, in getlines\n",
      "    return updatecache(filename, module_globals)\n",
      "  File \"/home/gabriel/anaconda3/lib/python3.7/linecache.py\", line 136, in updatecache\n",
      "    with tokenize.open(fullname) as fp:\n",
      "  File \"/home/gabriel/anaconda3/lib/python3.7/tokenize.py\", line 449, in open\n",
      "    encoding, lines = detect_encoding(buffer.readline)\n",
      "  File \"/home/gabriel/anaconda3/lib/python3.7/tokenize.py\", line 418, in detect_encoding\n",
      "    first = read_or_stop()\n",
      "  File \"/home/gabriel/anaconda3/lib/python3.7/tokenize.py\", line 376, in read_or_stop\n",
      "    return readline()\n",
      "KeyboardInterrupt\n"
     ]
    },
    {
     "ename": "KeyboardInterrupt",
     "evalue": "",
     "output_type": "error",
     "traceback": [
      "\u001b[0;31m---------------------------------------------------------------------------\u001b[0m"
     ]
    }
   ],
   "source": [
    "count = 0\n",
    "avg_r = 0\n",
    "rewards = []\n",
    "for it in range(n_iterations):\n",
    "    \n",
    "    r = sim.run(render=False, num_steps=num_steps)\n",
    "    \n",
    "    avg_r = 0.9*avg_r + 0.1*r\n",
    "    rewards.append(avg_r)\n",
    "    T = sim.tuples\n",
    "\n",
    "    S = np.zeros((1, num_steps, input_size), np.float32)\n",
    "    A = np.zeros((1, num_steps, action_size), np.float32)\n",
    "    R = np.zeros((1, num_steps,1), np.float32)\n",
    "    I = np.zeros((1, num_steps,1), np.float32)\n",
    "    \n",
    "    n = len(T)\n",
    "    for k,t in enumerate(T):\n",
    "        S[0,k,t[0]] = 1\n",
    "        A[0,k,t[1]] = 1\n",
    "        I[0,k,0]    = 1\n",
    "    \n",
    "    R[0,:n,0] = np.cumsum([t[2] for t in T])[::-1]\n",
    "    \n",
    "    loss = agent.train(S, A, R, I)\n",
    "    \n",
    "    if it%2000 == 0:\n",
    "        print(\"{} r={} loss={:.2f}\".format(it,r,loss))"
   ]
  },
  {
   "cell_type": "code",
   "execution_count": null,
   "metadata": {},
   "outputs": [],
   "source": [
    "plt.figure(figsize=(6,6))\n",
    "plt.plot(rewards)\n",
    "plt.show()\n",
    "plt.close()"
   ]
  },
  {
   "cell_type": "code",
   "execution_count": null,
   "metadata": {},
   "outputs": [],
   "source": [
    "sim.run(render=True, num_steps=num_steps)"
   ]
  },
  {
   "cell_type": "code",
   "execution_count": null,
   "metadata": {},
   "outputs": [],
   "source": [
    "print(0,list(policy.predict(preprocess_state(0))[0]))\n",
    "print(4,list(policy.predict(preprocess_state(4))[0]))\n",
    "print(8,list(policy.predict(preprocess_state(8))[0]))\n",
    "print(9,list(policy.predict(preprocess_state(9))[0]))\n",
    "print(10,list(policy.predict(preprocess_state(10))[0]))\n",
    "print(14,list(policy.predict(preprocess_state(14))[0]))\n",
    "print(1,list(policy.predict(preprocess_state(1))[0]))"
   ]
  },
  {
   "cell_type": "code",
   "execution_count": null,
   "metadata": {},
   "outputs": [],
   "source": [
    "print(0,list(value_function.predict(preprocess_state(0))[0]))\n",
    "print(4,list(value_function.predict(preprocess_state(4))[0]))\n",
    "print(8,list(value_function.predict(preprocess_state(8))[0]))\n",
    "print(9,list(value_function.predict(preprocess_state(9))[0]))\n",
    "print(10,list(value_function.predict(preprocess_state(10))[0]))\n",
    "print(14,list(value_function.predict(preprocess_state(14))[0]))\n",
    "print(1,list(value_function.predict(preprocess_state(1))[0]))"
   ]
  },
  {
   "cell_type": "code",
   "execution_count": null,
   "metadata": {},
   "outputs": [],
   "source": [
    "policy.trainable_variables"
   ]
  },
  {
   "cell_type": "code",
   "execution_count": null,
   "metadata": {},
   "outputs": [],
   "source": [
    "value_function.trainable_variables"
   ]
  },
  {
   "cell_type": "code",
   "execution_count": null,
   "metadata": {},
   "outputs": [],
   "source": []
  }
 ],
 "metadata": {
  "kernelspec": {
   "display_name": "Python 3",
   "language": "python",
   "name": "python3"
  },
  "language_info": {
   "codemirror_mode": {
    "name": "ipython",
    "version": 3
   },
   "file_extension": ".py",
   "mimetype": "text/x-python",
   "name": "python",
   "nbconvert_exporter": "python",
   "pygments_lexer": "ipython3",
   "version": "3.7.1"
  }
 },
 "nbformat": 4,
 "nbformat_minor": 2
}
