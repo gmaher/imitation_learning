{
 "cells": [
  {
   "cell_type": "code",
   "execution_count": 1,
   "metadata": {},
   "outputs": [],
   "source": [
    "import numpy as np\n",
    "import matplotlib.pyplot as plt\n",
    "import tensorflow as tf\n",
    "from tensorflow import keras\n",
    "import gym\n",
    "\n",
    "import imitation_learning"
   ]
  },
  {
   "cell_type": "code",
   "execution_count": 2,
   "metadata": {},
   "outputs": [],
   "source": [
    "num_episodes  = 100\n",
    "num_steps     = 20\n",
    "batch_size    = 2\n",
    "n_iterations  = 10\n",
    "mem_size      = 10\n",
    "\n",
    "input_size    = 1\n",
    "action_size   = 4\n",
    "learning_rate = 0.01"
   ]
  },
  {
   "cell_type": "code",
   "execution_count": 3,
   "metadata": {},
   "outputs": [],
   "source": [
    "def discrete_policy_loss(p, a, r):\n",
    "    \"\"\"\n",
    "    p - array (n_episodes x n_steps x state_size)\n",
    "    a - array (n_episodes x n_steps x num_actions) - binary array\n",
    "    r - array (n_episodes x n_steps)\n",
    "    \"\"\"\n",
    "    n_episodes = a.shape[0]\n",
    "    n_steps    = a.shape[1]\n",
    "    n_actions  = a.shape[2]\n",
    "    \n",
    "    log_pr     = tf.zeros(shape=[n_steps, n_actions])\n",
    "    \n",
    "    for i in range(n_episodes):\n",
    "        r_cum = tf.cumsum(r[i], reverse=True)\n",
    "        r_cum = tf.expand_dims(r_cum, axis=1)\n",
    "        \n",
    "        log_pr += -tf.math.log(p)*a[i]*r_cum\n",
    "        \n",
    "    return tf.reduce_sum(log_pr)/n_episodes\n",
    "\n",
    "def gradient(model, s, a, r):\n",
    "    with tf.GradientTape() as t:\n",
    "        loss = discrete_policy_loss(model(s),a,r)\n",
    "    return t.gradient(loss, model.trainable_variables)"
   ]
  },
  {
   "cell_type": "code",
   "execution_count": 4,
   "metadata": {},
   "outputs": [],
   "source": [
    "model = keras.Sequential([\n",
    "    keras.layers.Input(shape=[input_size]),\n",
    "    keras.layers.Dense(action_size, activation=tf.nn.softmax)\n",
    "])"
   ]
  },
  {
   "cell_type": "code",
   "execution_count": 5,
   "metadata": {},
   "outputs": [],
   "source": [
    "env = gym.make('FrozenLake-v0').env.__class__(\n",
    "    map_name='4x4', is_slippery=True)"
   ]
  },
  {
   "cell_type": "code",
   "execution_count": 6,
   "metadata": {},
   "outputs": [],
   "source": [
    "agent = imitation_learning.agent.DiscreteActionAgent(model)"
   ]
  },
  {
   "cell_type": "code",
   "execution_count": 7,
   "metadata": {},
   "outputs": [],
   "source": [
    "sim   = imitation_learning.simulator.Simulator(env, agent)"
   ]
  },
  {
   "cell_type": "code",
   "execution_count": 8,
   "metadata": {},
   "outputs": [],
   "source": [
    "optimizer   = tf.optimizers.SGD(learning_rate=0.0001, momentum=0.9)\n",
    "\n",
    "global_step = tf.Variable(0)"
   ]
  },
  {
   "cell_type": "code",
   "execution_count": 9,
   "metadata": {},
   "outputs": [
    {
     "name": "stdout",
     "output_type": "stream",
     "text": [
      "0 14\n",
      "1 7\n",
      "2 3\n",
      "3 5\n",
      "4 5\n",
      "5 4\n",
      "6 7\n",
      "7 3\n",
      "8 4\n",
      "9 3\n"
     ]
    }
   ],
   "source": [
    "inds = np.arange(num_episodes)\n",
    "\n",
    "S = np.zeros((mem_size, num_steps, input_size))\n",
    "A = np.zeros((mem_size, num_steps, action_size))\n",
    "R = np.zeros((mem_size, num_steps))\n",
    "count = 0\n",
    "for it in range(n_iterations):\n",
    "    \n",
    "    sim.run(render=False, num_steps=num_steps)\n",
    "    \n",
    "    T = sim.tuples\n",
    "    n = len(T)\n",
    "    print(it,n)\n",
    "    \n",
    "    s = np.array([t[0] for t in T])\n",
    "    if (len(s.shape) == 1): s = s[:,np.newaxis]\n",
    "    S[count,:n,:] = s\n",
    "    \n",
    "    a = np.array([t[1] for t in T])\n",
    "    for i,a_ in enumerate(a): A[count,i,a_] = 1 \n",
    "    \n",
    "    R[count,:n] = np.array([t[2] for t in T])\n",
    "    \n",
    "    count += 1\n",
    "    if (count >= mem_size): count = 0"
   ]
  },
  {
   "cell_type": "code",
   "execution_count": null,
   "metadata": {},
   "outputs": [],
   "source": []
  }
 ],
 "metadata": {
  "kernelspec": {
   "display_name": "Python 3",
   "language": "python",
   "name": "python3"
  },
  "language_info": {
   "codemirror_mode": {
    "name": "ipython",
    "version": 3
   },
   "file_extension": ".py",
   "mimetype": "text/x-python",
   "name": "python",
   "nbconvert_exporter": "python",
   "pygments_lexer": "ipython3",
   "version": "3.7.1"
  }
 },
 "nbformat": 4,
 "nbformat_minor": 2
}
