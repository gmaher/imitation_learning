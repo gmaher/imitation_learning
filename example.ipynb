{
 "cells": [
  {
   "cell_type": "code",
   "execution_count": 1,
   "metadata": {},
   "outputs": [],
   "source": [
    "import numpy as np\n",
    "import matplotlib.pyplot as plt\n",
    "import tensorflow as tf\n",
    "from tensorflow import keras\n",
    "import gym\n",
    "\n",
    "import imitation_learning"
   ]
  },
  {
   "cell_type": "code",
   "execution_count": 2,
   "metadata": {},
   "outputs": [],
   "source": [
    "num_steps     = 20\n",
    "batch_size    = 4\n",
    "n_iterations  = 10000\n",
    "\n",
    "input_size    = 16\n",
    "action_size   = 4\n",
    "num_units     = 5\n",
    "learning_rate = 0.001"
   ]
  },
  {
   "cell_type": "code",
   "execution_count": 3,
   "metadata": {},
   "outputs": [],
   "source": [
    "def preprocess_state(s):\n",
    "    S = np.zeros((1,input_size), np.float32)\n",
    "    S[0,s] = 1\n",
    "    return S   "
   ]
  },
  {
   "cell_type": "code",
   "execution_count": 4,
   "metadata": {},
   "outputs": [],
   "source": [
    "policy = imitation_learning.estimator.LinearModel(tf.nn.softmax)\n",
    "value_function = imitation_learning.estimator.LinearModel(tf.identity)"
   ]
  },
  {
   "cell_type": "code",
   "execution_count": 6,
   "metadata": {},
   "outputs": [],
   "source": [
    "agent = imitation_learning.model.DiscreteActionCritic(\n",
    "    policy, value_function, learning_rate, preprocess_state\n",
    ")"
   ]
  },
  {
   "cell_type": "code",
   "execution_count": null,
   "metadata": {},
   "outputs": [],
   "source": [
    "env = gym.make('FrozenLake-v0').env.__class__(\n",
    "    map_name='4x4', is_slippery=False)"
   ]
  },
  {
   "cell_type": "code",
   "execution_count": 7,
   "metadata": {},
   "outputs": [],
   "source": [
    "sim   = imitation_learning.simulator.Simulator(env, agent)"
   ]
  },
  {
   "cell_type": "code",
   "execution_count": 8,
   "metadata": {},
   "outputs": [],
   "source": [
    "t_good = [(0,1,0),(4,1,0),(8,2,0),(9,2,0),(10,1,0),(14,2,1)]"
   ]
  },
  {
   "cell_type": "code",
   "execution_count": 10,
   "metadata": {},
   "outputs": [
    {
     "name": "stdout",
     "output_type": "stream",
     "text": [
      "500 r=0.0 loss=14.43\n",
      "1000 r=0.0 loss=11.67\n",
      "1500 r=0.0 loss=6.91\n",
      "2000 r=0.0 loss=17.40\n",
      "2500 r=0.0 loss=17.69\n",
      "3000 r=0.0 loss=11.83\n",
      "3500 r=0.0 loss=14.27\n",
      "4000 r=0.0 loss=11.87\n",
      "4500 r=0.0 loss=7.83\n",
      "5000 r=0.0 loss=11.00\n",
      "5500 r=0.0 loss=12.46\n",
      "6000 r=1.0 loss=8.03\n",
      "6500 r=0.0 loss=12.50\n",
      "7000 r=0.0 loss=10.96\n",
      "7500 r=0.0 loss=12.98\n",
      "8000 r=0.0 loss=13.23\n",
      "8500 r=0.0 loss=14.69\n",
      "9000 r=0.0 loss=11.10\n",
      "9500 r=0.0 loss=13.34\n"
     ]
    }
   ],
   "source": [
    "count = 0\n",
    "avg_r = 0\n",
    "rewards = []\n",
    "for it in range(n_iterations):\n",
    "    \n",
    "    r = sim.run(render=False, num_steps=num_steps)\n",
    "    \n",
    "    avg_r = 0.9*avg_r + 0.1*r\n",
    "    rewards.append(avg_r)\n",
    "    T = sim.tuples\n",
    "    \n",
    "    S = np.zeros((1, num_steps, input_size), np.float32)\n",
    "    A = np.zeros((1, num_steps, action_size), np.float32)\n",
    "    R = np.zeros((1, num_steps), np.float32)\n",
    "    I = np.zeros((1, num_steps), np.float32)\n",
    "    \n",
    "    for k,t in enumerate(T):\n",
    "        S[0,k,t[0]] = 1\n",
    "        A[0,k,t[1]] = 1\n",
    "        I[0,k] = 1\n",
    "    \n",
    "    R = ...\n",
    "    \n",
    "    loss = agent.train(S, A, R, I)\n",
    "    \n",
    "    if it%500 == 0:\n",
    "        print(\"{} r={} loss={:.2f}\".format(it,r,loss))"
   ]
  },
  {
   "cell_type": "code",
   "execution_count": 16,
   "metadata": {},
   "outputs": [
    {
     "data": {
      "image/png": "[encoded data removed]",
      "text/plain": [
       "<Figure size 432x432 with 1 Axes>"
      ]
     },
     "metadata": {
      "needs_background": "light"
     },
     "output_type": "display_data"
    }
   ],
   "source": [
    "plt.figure(figsize=(6,6))\n",
    "plt.plot(rewards)\n",
    "plt.show()\n",
    "plt.close()"
   ]
  },
  {
   "cell_type": "code",
   "execution_count": 21,
   "metadata": {},
   "outputs": [
    {
     "name": "stdout",
     "output_type": "stream",
     "text": [
      "\n",
      "\u001b[41mS\u001b[0mFFF\n",
      "FHFH\n",
      "FFFH\n",
      "HFFG\n",
      "  (Down)\n",
      "SFFF\n",
      "\u001b[41mF\u001b[0mHFH\n",
      "FFFH\n",
      "HFFG\n"
     ]
    },
    {
     "data": {
      "text/plain": [
       "0.0"
      ]
     },
     "execution_count": 21,
     "metadata": {},
     "output_type": "execute_result"
    }
   ],
   "source": [
    "sim.run(render=True, num_steps=num_steps)"
   ]
  },
  {
   "cell_type": "code",
   "execution_count": 17,
   "metadata": {},
   "outputs": [
    {
     "name": "stdout",
     "output_type": "stream",
     "text": [
      "0 [0.046057798, 0.6044045, 0.2756686, 0.073869124]\n",
      "4 [0.15945874, 0.30575353, 0.24215652, 0.29263118]\n",
      "8 [0.24265422, 0.37171835, 0.29417503, 0.09145243]\n",
      "9 [0.29222652, 0.24710278, 0.3545671, 0.10610358]\n",
      "10 [0.18644679, 0.38950312, 0.2818531, 0.14219709]\n",
      "14 [0.043434843, 0.69890046, 0.2234128, 0.034251872]\n",
      "1 [0.17688642, 0.34662563, 0.3175382, 0.15894973]\n"
     ]
    }
   ],
   "source": [
    "print(0,list(model.predict(preprocess_state(0))[0]))\n",
    "print(4,list(model.predict(preprocess_state(4))[0]))\n",
    "print(8,list(model.predict(preprocess_state(8))[0]))\n",
    "print(9,list(model.predict(preprocess_state(9))[0]))\n",
    "print(10,list(model.predict(preprocess_state(10))[0]))\n",
    "print(14,list(model.predict(preprocess_state(14))[0]))\n",
    "print(1,list(model.predict(preprocess_state(1))[0]))"
   ]
  },
  {
   "cell_type": "code",
   "execution_count": 18,
   "metadata": {},
   "outputs": [
    {
     "name": "stdout",
     "output_type": "stream",
     "text": [
      "[<tf.Variable 'dense/kernel:0' shape=(16, 4) dtype=float32, numpy=\n",
      "array([[-7.50055790e-01,  7.20536888e-01,  2.99758971e-01,\n",
      "        -1.31807357e-01],\n",
      "       [ 6.83390796e-02, -3.62677425e-01, -8.60581324e-02,\n",
      "         1.07269846e-01],\n",
      "       [ 7.31709063e-01,  6.96409792e-02,  6.47686958e-01,\n",
      "         3.21905047e-01],\n",
      "       [ 5.84448278e-01, -1.32299304e-01,  7.94271827e-02,\n",
      "        -9.35545489e-02],\n",
      "       [-3.74304950e-02, -4.90190297e-01, -3.59118849e-01,\n",
      "         7.15548038e-01],\n",
      "       [-4.45021719e-01,  3.12506914e-01,  8.14208984e-02,\n",
      "        -2.17563689e-01],\n",
      "       [-1.47783279e-01, -7.24689364e-02, -2.29998201e-01,\n",
      "         7.67334580e-01],\n",
      "       [-5.38394213e-01,  1.72553122e-01,  3.96567464e-01,\n",
      "         8.76903534e-04],\n",
      "       [ 5.86676180e-01, -9.05787870e-02,  3.97261418e-02,\n",
      "        -2.43291765e-01],\n",
      "       [ 6.75281763e-01, -5.96197009e-01,  1.29162654e-01,\n",
      "        -1.91981077e-01],\n",
      "       [ 2.63132274e-01, -1.03895687e-01, -6.31150380e-02,\n",
      "         1.38051227e-01],\n",
      "       [ 2.44964540e-01, -3.94894481e-02, -9.98359025e-02,\n",
      "         3.90503407e-01],\n",
      "       [-1.87944949e-01,  3.46808374e-01, -4.42191362e-01,\n",
      "        -4.36383247e-01],\n",
      "       [-1.71569660e-01, -3.66842240e-01, -5.60552955e-01,\n",
      "        -1.54913276e-01],\n",
      "       [-5.13354003e-01,  1.16113842e+00,  3.84917676e-01,\n",
      "        -6.05024099e-01],\n",
      "       [ 3.51961255e-02, -2.51982063e-01,  5.22300482e-01,\n",
      "         1.40026212e-01]], dtype=float32)>, <tf.Variable 'dense/bias:0' shape=(4,) dtype=float32, numpy=array([-0.42434552,  0.67940843,  0.31514198, -0.57019615], dtype=float32)>]\n"
     ]
    }
   ],
   "source": [
    "print(model.trainable_variables)"
   ]
  },
  {
   "cell_type": "code",
   "execution_count": 15,
   "metadata": {},
   "outputs": [
    {
     "name": "stdout",
     "output_type": "stream",
     "text": [
      "tf.Tensor(0.4875567, shape=(), dtype=float32)\n"
     ]
    }
   ],
   "source": [
    "#loss test\n",
    "p = np.zeros((1,3,2), np.float32)+0.85\n",
    "a = np.zeros((1,3,2), np.float32)\n",
    "a[0,:,0] = 1\n",
    "r = np.zeros((1,3), np.float32)\n",
    "r[0,-1] = 1\n",
    "\n",
    "l = discrete_policy_loss(p,a,r)\n",
    "\n",
    "print(l)"
   ]
  }
 ],
 "metadata": {
  "kernelspec": {
   "display_name": "Python 3",
   "language": "python",
   "name": "python3"
  },
  "language_info": {
   "codemirror_mode": {
    "name": "ipython",
    "version": 3
   },
   "file_extension": ".py",
   "mimetype": "text/x-python",
   "name": "python",
   "nbconvert_exporter": "python",
   "pygments_lexer": "ipython3",
   "version": "3.7.1"
  }
 },
 "nbformat": 4,
 "nbformat_minor": 2
}
