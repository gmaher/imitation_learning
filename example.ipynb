{
 "cells": [
  {
   "cell_type": "code",
   "execution_count": 1,
   "metadata": {},
   "outputs": [],
   "source": [
    "import numpy as np\n",
    "import matplotlib.pyplot as plt\n",
    "import tensorflow as tf\n",
    "from tensorflow import keras\n",
    "import gym\n",
    "\n",
    "import imitation_learning"
   ]
  },
  {
   "cell_type": "code",
   "execution_count": 2,
   "metadata": {},
   "outputs": [],
   "source": [
    "num_steps     = 50\n",
    "batch_size    = 4\n",
    "n_iterations  = 10000\n",
    "\n",
    "\n",
    "input_size    = 16\n",
    "action_size   = 4\n",
    "num_units     = 5\n",
    "learning_rate = 0.01"
   ]
  },
  {
   "cell_type": "code",
   "execution_count": 3,
   "metadata": {},
   "outputs": [],
   "source": [
    "def preprocess_state(s):\n",
    "    S = np.zeros((1,input_size), np.float32)\n",
    "    S[0,s] = 1\n",
    "    return S   "
   ]
  },
  {
   "cell_type": "code",
   "execution_count": 4,
   "metadata": {},
   "outputs": [],
   "source": [
    "policy = keras.Sequential([\n",
    "            keras.layers.Input(shape=[input_size]),\n",
    "            keras.layers.Dense(action_size, activation=tf.nn.softmax)\n",
    "        ])\n",
    "\n",
    "value_function = keras.Sequential([\n",
    "            keras.layers.Input(shape=[input_size]),\n",
    "            keras.layers.Dense(1, activation=tf.identity)\n",
    "        ])"
   ]
  },
  {
   "cell_type": "code",
   "execution_count": 5,
   "metadata": {},
   "outputs": [],
   "source": [
    "agent = imitation_learning.model.DiscreteActorCritic(\n",
    "    policy, value_function, preprocess_state, learning_rate\n",
    ")"
   ]
  },
  {
   "cell_type": "code",
   "execution_count": 6,
   "metadata": {},
   "outputs": [],
   "source": [
    "env = gym.make('FrozenLake-v0').env.__class__(\n",
    "    map_name='4x4', is_slippery=False)\n",
    "# from imitation_learning.test import TestEnv\n",
    "# env = TestEnv(right=20)"
   ]
  },
  {
   "cell_type": "code",
   "execution_count": 7,
   "metadata": {},
   "outputs": [],
   "source": [
    "sim   = imitation_learning.simulator.Simulator(env, agent)"
   ]
  },
  {
   "cell_type": "code",
   "execution_count": 16,
   "metadata": {
    "scrolled": true
   },
   "outputs": [
    {
     "name": "stdout",
     "output_type": "stream",
     "text": [
      "0 r=0.0 loss=0.00\n",
      "0 [0.0671017, 0.53179955, 0.10233013, 0.29876864]\n",
      "500 r=0.0 loss=0.00\n",
      "0 [0.06241332, 0.4273646, 0.09092317, 0.4192989]\n",
      "1000 r=0.0 loss=-0.05\n",
      "0 [0.058937106, 0.38705614, 0.08520388, 0.46880284]\n",
      "1500 r=0.0 loss=0.00\n",
      "0 [0.07309435, 0.37787315, 0.08628269, 0.4627497]\n",
      "2000 r=0.0 loss=0.00\n",
      "0 [0.06555141, 0.30731222, 0.07622978, 0.55090666]\n",
      "2500 r=0.0 loss=0.00\n",
      "0 [0.06205094, 0.44264758, 0.07281275, 0.42248875]\n",
      "3000 r=0.0 loss=0.00\n",
      "0 [0.054490354, 0.53104573, 0.06321486, 0.35124904]\n",
      "3500 r=0.0 loss=-0.03\n",
      "0 [0.05290067, 0.47904736, 0.061235547, 0.40681636]\n",
      "4000 r=0.0 loss=-0.03\n",
      "0 [0.048416812, 0.36075744, 0.055609014, 0.5352168]\n",
      "4500 r=0.0 loss=0.00\n",
      "0 [0.04443053, 0.3069634, 0.050861843, 0.59774417]\n",
      "5000 r=0.0 loss=0.00\n",
      "0 [0.04362467, 0.35050583, 0.05007005, 0.5557995]\n",
      "5500 r=0.0 loss=-0.03\n",
      "0 [0.0423497, 0.3910676, 0.048518956, 0.5180638]\n",
      "6000 r=0.0 loss=0.01\n",
      "0 [0.039730396, 0.35308623, 0.045339216, 0.56184417]\n",
      "6500 r=0.0 loss=-0.05\n",
      "0 [0.038694948, 0.3861922, 0.043989416, 0.5311235]\n",
      "7000 r=0.0 loss=0.00\n",
      "0 [0.03775346, 0.391553, 0.04264219, 0.5280513]\n",
      "7500 r=0.0 loss=0.00\n",
      "0 [0.03548362, 0.3463939, 0.040034603, 0.57808787]\n",
      "8000 r=0.0 loss=0.00\n",
      "0 [0.03312879, 0.302642, 0.037115652, 0.6271135]\n",
      "8500 r=0.0 loss=0.00\n",
      "0 [0.03193415, 0.29073244, 0.035668004, 0.6416654]\n",
      "9000 r=0.0 loss=0.00\n",
      "0 [0.04086527, 0.28839248, 0.037183315, 0.63355887]\n",
      "9500 r=0.0 loss=0.00\n",
      "0 [0.039334428, 0.27682027, 0.0357318, 0.6481135]\n"
     ]
    }
   ],
   "source": [
    "count = 0\n",
    "avg_r = 0\n",
    "rewards = []\n",
    "for it in range(n_iterations):\n",
    "    \n",
    "    r = sim.run(render=False, num_steps=num_steps)\n",
    "    \n",
    "    avg_r = 0.9*avg_r + 0.1*r\n",
    "    rewards.append(avg_r)\n",
    "    T = sim.tuples\n",
    "\n",
    "    S = np.zeros((1, num_steps, input_size), np.float32)\n",
    "    A = np.zeros((1, num_steps, action_size), np.float32)\n",
    "    R = np.zeros((1, num_steps,1), np.float32)\n",
    "    I = np.zeros((1, num_steps,1), np.float32)\n",
    "    \n",
    "    n = len(T)\n",
    "    \n",
    "    for k,t in enumerate(T):\n",
    "        S[0,k,t[0]] = 1\n",
    "        A[0,k,t[1]] = 1\n",
    "        I[0,k,0]    = 1\n",
    "    \n",
    "    R[0,:n,0] = np.cumsum([t[2] for t in T])[::-1]\n",
    "    \n",
    "    loss = agent.train(S, A, R, I)\n",
    "        \n",
    "    if it%500 == 0:\n",
    "        print(\"{} r={} loss={:.2f}\".format(it,r,loss))\n",
    "        print(0,list(policy.predict(preprocess_state(0))[0]))"
   ]
  },
  {
   "cell_type": "code",
   "execution_count": 17,
   "metadata": {},
   "outputs": [
    {
     "data": {
      "image/png": "[encoded data removed]",
      "text/plain": [
       "<Figure size 432x432 with 1 Axes>"
      ]
     },
     "metadata": {
      "needs_background": "light"
     },
     "output_type": "display_data"
    }
   ],
   "source": [
    "plt.figure(figsize=(6,6))\n",
    "plt.plot(rewards)\n",
    "plt.show()\n",
    "plt.close()"
   ]
  },
  {
   "cell_type": "code",
   "execution_count": 18,
   "metadata": {},
   "outputs": [
    {
     "name": "stdout",
     "output_type": "stream",
     "text": [
      "\n",
      "\u001b[41mS\u001b[0mFFF\n",
      "FHFH\n",
      "FFFH\n",
      "HFFG\n",
      "  (Down)\n",
      "SFFF\n",
      "\u001b[41mF\u001b[0mHFH\n",
      "FFFH\n",
      "HFFG\n",
      "  (Left)\n",
      "SFFF\n",
      "\u001b[41mF\u001b[0mHFH\n",
      "FFFH\n",
      "HFFG\n",
      "  (Down)\n",
      "SFFF\n",
      "FHFH\n",
      "\u001b[41mF\u001b[0mFFH\n",
      "HFFG\n",
      "  (Up)\n",
      "SFFF\n",
      "\u001b[41mF\u001b[0mHFH\n",
      "FFFH\n",
      "HFFG\n",
      "  (Up)\n",
      "\u001b[41mS\u001b[0mFFF\n",
      "FHFH\n",
      "FFFH\n",
      "HFFG\n",
      "  (Up)\n",
      "\u001b[41mS\u001b[0mFFF\n",
      "FHFH\n",
      "FFFH\n",
      "HFFG\n",
      "  (Up)\n",
      "\u001b[41mS\u001b[0mFFF\n",
      "FHFH\n",
      "FFFH\n",
      "HFFG\n",
      "  (Up)\n",
      "\u001b[41mS\u001b[0mFFF\n",
      "FHFH\n",
      "FFFH\n",
      "HFFG\n",
      "  (Right)\n",
      "S\u001b[41mF\u001b[0mFF\n",
      "FHFH\n",
      "FFFH\n",
      "HFFG\n"
     ]
    },
    {
     "data": {
      "text/plain": [
       "0.0"
      ]
     },
     "execution_count": 18,
     "metadata": {},
     "output_type": "execute_result"
    }
   ],
   "source": [
    "sim.run(render=True, num_steps=num_steps)"
   ]
  },
  {
   "cell_type": "code",
   "execution_count": 19,
   "metadata": {},
   "outputs": [
    {
     "name": "stdout",
     "output_type": "stream",
     "text": [
      "0 [0.0377335, 0.2642612, 0.034232248, 0.66377306]\n",
      "4 [0.047361594, 0.2593816, 0.07771245, 0.6155444]\n",
      "8 [0.027855644, 0.16176754, 0.044637598, 0.7657392]\n",
      "9 [0.042556006, 0.21479535, 0.06267696, 0.6799717]\n",
      "10 [0.032504328, 0.1803306, 0.07044574, 0.7167193]\n",
      "14 [0.049184885, 0.26318353, 0.09864796, 0.5889836]\n",
      "1 [0.03384358, 0.13177001, 0.04138316, 0.79300326]\n"
     ]
    }
   ],
   "source": [
    "print(0,list(policy.predict(preprocess_state(0))[0]))\n",
    "print(4,list(policy.predict(preprocess_state(4))[0]))\n",
    "print(8,list(policy.predict(preprocess_state(8))[0]))\n",
    "print(9,list(policy.predict(preprocess_state(9))[0]))\n",
    "print(10,list(policy.predict(preprocess_state(10))[0]))\n",
    "print(14,list(policy.predict(preprocess_state(14))[0]))\n",
    "print(1,list(policy.predict(preprocess_state(1))[0]))"
   ]
  },
  {
   "cell_type": "code",
   "execution_count": 20,
   "metadata": {},
   "outputs": [
    {
     "name": "stdout",
     "output_type": "stream",
     "text": [
      "0 [2.142042e-06]\n",
      "4 [8.6054206e-07]\n",
      "8 [1.4901161e-08]\n",
      "9 [2.5231391e-05]\n",
      "10 [0.0038000718]\n",
      "14 [-0.0046209805]\n",
      "1 [-7.4505806e-08]\n"
     ]
    }
   ],
   "source": [
    "print(0,list(value_function.predict(preprocess_state(0))[0]))\n",
    "print(4,list(value_function.predict(preprocess_state(4))[0]))\n",
    "print(8,list(value_function.predict(preprocess_state(8))[0]))\n",
    "print(9,list(value_function.predict(preprocess_state(9))[0]))\n",
    "print(10,list(value_function.predict(preprocess_state(10))[0]))\n",
    "print(14,list(value_function.predict(preprocess_state(14))[0]))\n",
    "print(1,list(value_function.predict(preprocess_state(1))[0]))"
   ]
  },
  {
   "cell_type": "code",
   "execution_count": 13,
   "metadata": {},
   "outputs": [
    {
     "data": {
      "text/plain": [
       "[<tf.Variable 'dense/kernel:0' shape=(16, 4) dtype=float32, numpy=\n",
       " array([[ 1.9311719e-01,  6.1105883e-01, -2.6848290e-02, -3.6378879e-02],\n",
       "        [ 1.6769561e-01, -1.3033485e-01,  8.0286339e-03,  5.0215691e-01],\n",
       "        [-4.9872026e-01, -1.4244895e-01,  4.6307382e-01, -4.0657473e-01],\n",
       "        [-3.4942865e-01,  3.5576206e-01,  2.2551592e-01, -3.9138949e-01],\n",
       "        [-1.9920322e-01, -1.7392020e-01, -5.8838654e-02, -4.8136029e-01],\n",
       "        [-1.3097468e-01, -1.4414299e-01, -5.3456515e-01,  2.9970169e-02],\n",
       "        [-3.6218131e-01, -2.4029669e-01,  2.2161229e-01,  4.9309069e-01],\n",
       "        [ 4.9663794e-01, -4.5305347e-01, -4.1223282e-01, -6.7120671e-02],\n",
       "        [-1.4895004e-01, -4.9044684e-02, -3.9275628e-02,  3.4282070e-01],\n",
       "        [ 2.9059410e-01,  2.5294620e-01,  3.1439835e-01,  2.6725048e-01],\n",
       "        [ 5.5106562e-02,  7.5367592e-02,  4.4883651e-01,  3.7357432e-01],\n",
       "        [ 3.4298491e-01, -3.7068298e-01,  1.9303119e-01,  2.8492779e-01],\n",
       "        [ 3.2209069e-01,  3.8724822e-01,  3.2160580e-01, -5.2988225e-01],\n",
       "        [-7.4328788e-02,  3.0670050e-01,  1.4537579e-02,  3.5775712e-01],\n",
       "        [-1.8865090e-02, -5.3706369e-04,  3.1585151e-01, -3.3820197e-01],\n",
       "        [-4.7455898e-01, -3.3805197e-01,  4.5642471e-01,  6.3255548e-02]],\n",
       "       dtype=float32)>,\n",
       " <tf.Variable 'dense/bias:0' shape=(4,) dtype=float32, numpy=array([-1.0042312 ,  0.6478079 , -0.36227417,  0.7186946 ], dtype=float32)>]"
      ]
     },
     "execution_count": 13,
     "metadata": {},
     "output_type": "execute_result"
    }
   ],
   "source": [
    "policy.trainable_variables"
   ]
  },
  {
   "cell_type": "code",
   "execution_count": 14,
   "metadata": {},
   "outputs": [
    {
     "data": {
      "text/plain": [
       "[<tf.Variable 'dense_1/kernel:0' shape=(16, 1) dtype=float32, numpy=\n",
       " array([[-0.05076864],\n",
       "        [-0.05090932],\n",
       "        [-0.05114118],\n",
       "        [-0.09524567],\n",
       "        [-0.05112379],\n",
       "        [ 0.43299246],\n",
       "        [-0.0355727 ],\n",
       "        [ 0.22713202],\n",
       "        [-0.05104581],\n",
       "        [-0.04896428],\n",
       "        [-0.02971851],\n",
       "        [ 0.03234208],\n",
       "        [ 0.03557372],\n",
       "        [-0.04800885],\n",
       "        [-0.06271283],\n",
       "        [ 0.1485455 ]], dtype=float32)>,\n",
       " <tf.Variable 'dense_1/bias:0' shape=(1,) dtype=float32, numpy=array([0.05095926], dtype=float32)>]"
      ]
     },
     "execution_count": 14,
     "metadata": {},
     "output_type": "execute_result"
    }
   ],
   "source": [
    "value_function.trainable_variables"
   ]
  },
  {
   "cell_type": "code",
   "execution_count": null,
   "metadata": {},
   "outputs": [],
   "source": []
  },
  {
   "cell_type": "code",
   "execution_count": null,
   "metadata": {},
   "outputs": [],
   "source": []
  }
 ],
 "metadata": {
  "kernelspec": {
   "display_name": "Python 3",
   "language": "python",
   "name": "python3"
  },
  "language_info": {
   "codemirror_mode": {
    "name": "ipython",
    "version": 3
   },
   "file_extension": ".py",
   "mimetype": "text/x-python",
   "name": "python",
   "nbconvert_exporter": "python",
   "pygments_lexer": "ipython3",
   "version": "3.7.1"
  }
 },
 "nbformat": 4,
 "nbformat_minor": 2
}
