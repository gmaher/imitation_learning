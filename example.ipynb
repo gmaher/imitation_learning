{
 "cells": [
  {
   "cell_type": "code",
   "execution_count": 1,
   "metadata": {},
   "outputs": [],
   "source": [
    "import numpy as np\n",
    "import matplotlib.pyplot as plt\n",
    "import tensorflow as tf\n",
    "from tensorflow import keras\n",
    "import gym\n",
    "\n",
    "import imitation_learning"
   ]
  },
  {
   "cell_type": "code",
   "execution_count": 2,
   "metadata": {},
   "outputs": [],
   "source": [
    "num_episodes  = 100\n",
    "num_steps     = 20\n",
    "batch_size    = 2\n",
    "n_iterations  = 10\n",
    "mem_size      = 10\n",
    "\n",
    "input_size    = 1\n",
    "action_size   = 4\n",
    "learning_rate = 0.01"
   ]
  },
  {
   "cell_type": "code",
   "execution_count": 3,
   "metadata": {},
   "outputs": [],
   "source": [
    "def discrete_policy_loss(p, a, r):\n",
    "    \"\"\"\n",
    "    p - array (n_episodes x n_steps x state_size)\n",
    "    a - array (n_episodes x n_steps x num_actions) - binary array\n",
    "    r - array (n_episodes x n_steps)\n",
    "    \"\"\"\n",
    "    n_episodes = a.shape[0]\n",
    "    n_steps    = a.shape[1]\n",
    "    n_actions  = a.shape[2]\n",
    "    \n",
    "    log_pr     = tf.zeros(shape=[n_steps, n_actions])\n",
    "    \n",
    "    for i in range(n_episodes):\n",
    "        r_cum = tf.cumsum(r[i], reverse=True)\n",
    "        r_cum = tf.expand_dims(r_cum, axis=1)\n",
    "        \n",
    "        log_pr += -tf.math.log(p)*a[i]*r_cum\n",
    "        \n",
    "    return tf.reduce_sum(log_pr)/n_episodes\n",
    "\n",
    "def gradient(model, s, a, r):\n",
    "    with tf.GradientTape() as t:\n",
    "        loss = discrete_policy_loss(model(s),a,r)\n",
    "    return t.gradient(loss, model.trainable_variables)   "
   ]
  },
  {
   "cell_type": "code",
   "execution_count": 4,
   "metadata": {},
   "outputs": [],
   "source": [
    "model = keras.Sequential([\n",
    "    keras.layers.Input(shape=[input_size]),\n",
    "    keras.layers.Dense(action_size, activation=tf.nn.softmax)\n",
    "])"
   ]
  },
  {
   "cell_type": "code",
   "execution_count": 5,
   "metadata": {},
   "outputs": [],
   "source": [
    "env = gym.make('FrozenLake-v0').env.__class__(\n",
    "    map_name='4x4', is_slippery=True)"
   ]
  },
  {
   "cell_type": "code",
   "execution_count": 6,
   "metadata": {},
   "outputs": [],
   "source": [
    "agent = imitation_learning.agent.DiscreteActionAgent(model)"
   ]
  },
  {
   "cell_type": "code",
   "execution_count": 7,
   "metadata": {},
   "outputs": [],
   "source": [
    "sim   = imitation_learning.simulator.Simulator(env, agent)"
   ]
  },
  {
   "cell_type": "code",
   "execution_count": 8,
   "metadata": {},
   "outputs": [],
   "source": [
    "replay = imitation_learning.replay.EpisodeReplay(\n",
    "    input_size, action_size, num_episodes, num_steps, \n",
    "    size=100, batch_size=batch_size)"
   ]
  },
  {
   "cell_type": "code",
   "execution_count": 9,
   "metadata": {},
   "outputs": [],
   "source": [
    "optimizer   = tf.optimizers.SGD(learning_rate=0.0001, momentum=0.9)\n",
    "\n",
    "global_step = tf.Variable(0)"
   ]
  },
  {
   "cell_type": "code",
   "execution_count": 10,
   "metadata": {},
   "outputs": [],
   "source": [
    "count = 0\n",
    "for it in range(n_iterations):\n",
    "    \n",
    "    sim.run(render=False, num_steps=num_steps)\n",
    "    \n",
    "    T = sim.tuples\n",
    "    \n",
    "    replay.append(T)"
   ]
  },
  {
   "cell_type": "code",
   "execution_count": 15,
   "metadata": {},
   "outputs": [
    {
     "name": "stdout",
     "output_type": "stream",
     "text": [
      "(100, 20)\n"
     ]
    }
   ],
   "source": []
  },
  {
   "cell_type": "code",
   "execution_count": null,
   "metadata": {},
   "outputs": [],
   "source": []
  }
 ],
 "metadata": {
  "kernelspec": {
   "display_name": "Python 3",
   "language": "python",
   "name": "python3"
  },
  "language_info": {
   "codemirror_mode": {
    "name": "ipython",
    "version": 3
   },
   "file_extension": ".py",
   "mimetype": "text/x-python",
   "name": "python",
   "nbconvert_exporter": "python",
   "pygments_lexer": "ipython3",
   "version": "3.7.1"
  }
 },
 "nbformat": 4,
 "nbformat_minor": 2
}
